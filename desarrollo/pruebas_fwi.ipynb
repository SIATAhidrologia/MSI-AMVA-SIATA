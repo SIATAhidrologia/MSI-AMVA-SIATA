{
 "cells": [
  {
   "cell_type": "code",
   "execution_count": 1,
   "metadata": {},
   "outputs": [],
   "source": [
    "import FWI \n",
    "import numpy as np\n",
    "import pandas as pd\n",
    "import datetime"
   ]
  },
  {
   "cell_type": "code",
   "execution_count": 2,
   "metadata": {},
   "outputs": [
    {
     "data": {
      "text/plain": [
       "['__builtins__',\n",
       " '__cached__',\n",
       " '__doc__',\n",
       " '__file__',\n",
       " '__loader__',\n",
       " '__name__',\n",
       " '__package__',\n",
       " '__spec__',\n",
       " 'calc_bui',\n",
       " 'calc_dc',\n",
       " 'calc_dmc',\n",
       " 'calc_ffmc',\n",
       " 'calc_fwi_dsr',\n",
       " 'calc_gfmc_gisi',\n",
       " 'calc_isi',\n",
       " 'el',\n",
       " 'fl',\n",
       " 'mask_fields',\n",
       " 'np']"
      ]
     },
     "execution_count": 2,
     "metadata": {},
     "output_type": "execute_result"
    }
   ],
   "source": [
    "dir(FWI)"
   ]
  },
  {
   "cell_type": "code",
   "execution_count": 2,
   "metadata": {},
   "outputs": [],
   "source": [
    "ffmc = FWI.calc_ffmc(np.array([25, 23]), np.array([72,60]), np.array([10, 18]), np.array([4.1,5.2]), np.array([85,85]),7)"
   ]
  },
  {
   "cell_type": "code",
   "execution_count": 3,
   "metadata": {},
   "outputs": [],
   "source": [
    "dmc = FWI.calc_dmc(np.array([25, 23]), np.array([72,60]), np.array([4.1,5.2]), np.array([6,6]),7)"
   ]
  },
  {
   "cell_type": "code",
   "execution_count": 4,
   "metadata": {},
   "outputs": [],
   "source": [
    "dc = FWI.calc_dc(np.array([25, 23]), np.array([4.1,5.2]), np.array([15,15]), 7)"
   ]
  },
  {
   "cell_type": "code",
   "execution_count": 5,
   "metadata": {},
   "outputs": [],
   "source": [
    "isi = FWI.calc_isi(ffmc, np.array([10, 18]), 7)"
   ]
  },
  {
   "cell_type": "code",
   "execution_count": 6,
   "metadata": {},
   "outputs": [],
   "source": [
    "bui =FWI.calc_bui(dmc,dc,7)"
   ]
  },
  {
   "cell_type": "code",
   "execution_count": 7,
   "metadata": {},
   "outputs": [
    {
     "data": {
      "text/plain": [
       "array([0.41975664, 0.68577076])"
      ]
     },
     "execution_count": 7,
     "metadata": {},
     "output_type": "execute_result"
    }
   ],
   "source": [
    "fwi, otro = FWI.calc_fwi_dsr(bui, isi, 7)\n",
    "fwi"
   ]
  },
  {
   "cell_type": "code",
   "execution_count": 10,
   "metadata": {},
   "outputs": [],
   "source": [
    "import modelo_susceptibilidad as msi"
   ]
  },
  {
   "cell_type": "code",
   "execution_count": 15,
   "metadata": {},
   "outputs": [
    {
     "name": "stdout",
     "output_type": "stream",
     "text": [
      "/home/hidrologia/py_env/lib/python3.8/site-packages/modelo_susceptibilidad\n",
      "0.08605569402708732\n",
      "Usando font Avenir\n"
     ]
    },
    {
     "name": "stderr",
     "output_type": "stream",
     "text": [
      "/home/hidrologia/py_env/lib/python3.8/site-packages/modelo_susceptibilidad/msi_2.py:95: MatplotlibDeprecationWarning: \n",
      "The createFontList function was deprecated in Matplotlib 3.2 and will be removed two minor releases later. Use FontManager.addfont instead.\n",
      "  font_list = font_manager.createFontList(font_files)\n"
     ]
    },
    {
     "name": "stdout",
     "output_type": "stream",
     "text": [
      "2021-11-05_14\n",
      "Acumulando lluvia, esto puede tardar unos minutos\n",
      "2021-11-05 19:43:00\n",
      "Acumular la lluvia ha tardado: 0:02:26.876077\n",
      "Se ha estimado el tiempo de sequia por celda (tiempo que la celda lleva sin superar el umbral de lluvia acumulada en milimetros, por defecto son 6mm), ver self.mapa_tiempo_sequia\n"
     ]
    }
   ],
   "source": [
    "model = msi.msi_2()\n",
    "m1,m2 = model.generar_mapa_final()"
   ]
  },
  {
   "cell_type": "code",
   "execution_count": 16,
   "metadata": {},
   "outputs": [
    {
     "data": {
      "text/plain": [
       "array([17.268799, 18.273926, 18.00842 , ..., 27.174675, 27.130424,\n",
       "       27.250534], dtype=float32)"
      ]
     },
     "execution_count": 16,
     "metadata": {},
     "output_type": "execute_result"
    }
   ],
   "source": [
    "model.mapa_temperatura_ambiente"
   ]
  },
  {
   "cell_type": "code",
   "execution_count": null,
   "metadata": {},
   "outputs": [],
   "source": [
    "ffmc = FWI.calc_ffmc(model.mapa_temperatura_ambiente, model., model, model, model, 11)"
   ]
  }
 ],
 "metadata": {
  "kernelspec": {
   "display_name": "hidrologia-Python3",
   "language": "python",
   "name": "hidrologia"
  },
  "language_info": {
   "codemirror_mode": {
    "name": "ipython",
    "version": 3
   },
   "file_extension": ".py",
   "mimetype": "text/x-python",
   "name": "python",
   "nbconvert_exporter": "python",
   "pygments_lexer": "ipython3",
   "version": "3.10.1"
  }
 },
 "nbformat": 4,
 "nbformat_minor": 4
}
