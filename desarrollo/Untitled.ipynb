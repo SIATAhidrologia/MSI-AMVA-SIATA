{
 "cells": [
  {
   "cell_type": "code",
   "execution_count": null,
   "id": "5d84f9ef",
   "metadata": {},
   "outputs": [],
   "source": [
    "import modelo_susceptibilidad\n",
    "from wmf import wmf\n",
    "import matplotlib.pyplot as plt\n",
    "import numpy as np\n",
    "import datetime\n",
    "import pandas as pd\n",
    "%matplotlib notebook\n",
    "\n",
    "import matplotlib.gridspec as gridspec\n",
    "from matplotlib.offsetbox import OffsetImage, AnnotationBbox\n",
    "from matplotlib.cm import get_cmap\n",
    "from skimage import io\n",
    "import cartopy.crs as crs\n",
    "from cartopy.feature import NaturalEarthFeature\n",
    "import xarray as xr\n",
    "import cartopy\n",
    "import cartopy.crs as ccrs\n",
    "import cartopy.io.shapereader as shpreader\n",
    "from cartopy.feature import ShapelyFeature\n",
    "\n",
    "from shapely.geometry import Point\n",
    "from shapely.wkb import loads\n",
    "from osgeo import ogr\n",
    "import json\n",
    "import sys\n",
    "\n",
    "from reportlab.lib.pagesizes import letter\n",
    "from reportlab.platypus import SimpleDocTemplate,Paragraph, Table, TableStyle\n",
    "from IPython.display import IFrame\n",
    "from reportlab.pdfbase import pdfmetrics\n",
    "from reportlab.pdfbase.ttfonts import TTFont\n",
    "from reportlab.pdfgen import canvas\n",
    "from reportlab.lib import colors\n",
    "from reportlab.lib.styles import ParagraphStyle, getSampleStyleSheet\n",
    "from reportlab.lib.enums import TA_LEFT, TA_CENTER, TA_RIGHT, TA_JUSTIFY\n",
    "from reportlab.lib.units import inch\n",
    "from reportlab.platypus import SimpleDocTemplate, Paragraph, Spacer, Table\n",
    "import sys\n",
    "import os\n",
    "from matplotlib.patches import Rectangle\n",
    "\n",
    "import Func_incendios as Fi"
   ]
  }
 ],
 "metadata": {
  "kernelspec": {
   "display_name": "hidrologia-Python3",
   "language": "python",
   "name": "hidrologia"
  },
  "language_info": {
   "codemirror_mode": {
    "name": "ipython",
    "version": 3
   },
   "file_extension": ".py",
   "mimetype": "text/x-python",
   "name": "python",
   "nbconvert_exporter": "python",
   "pygments_lexer": "ipython3",
   "version": "3.10.1"
  }
 },
 "nbformat": 4,
 "nbformat_minor": 5
}
